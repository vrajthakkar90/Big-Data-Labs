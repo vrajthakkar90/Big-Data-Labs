{
  "cells": [
    {
      "cell_type": "code",
      "execution_count": null,
      "metadata": {
        "colab": {
          "base_uri": "https://localhost:8080/"
        },
        "id": "VIrkYCGg_72D",
        "outputId": "30f9854f-717a-4c23-ff28-bea6003d399a"
      },
      "outputs": [
        {
          "output_type": "stream",
          "name": "stdout",
          "text": [
            "\u001b[?25l     \u001b[90m━━━━━━━━━━━━━━━━━━━━━━━━━━━━━━━━━━━━━━━━\u001b[0m \u001b[32m0.0/439.6 kB\u001b[0m \u001b[31m?\u001b[0m eta \u001b[36m-:--:--\u001b[0m\r\u001b[2K     \u001b[90m━━━━━━━━━━━━━━━━━━━━━━━━━━━━━━━━━━━━━━\u001b[0m \u001b[32m439.6/439.6 kB\u001b[0m \u001b[31m13.2 MB/s\u001b[0m eta \u001b[36m0:00:00\u001b[0m\n",
            "\u001b[?25h"
          ]
        }
      ],
      "source": [
        "!pip install --quiet mrjob==0.7.4"
      ]
    },
    {
      "cell_type": "code",
      "execution_count": null,
      "metadata": {
        "colab": {
          "base_uri": "https://localhost:8080/"
        },
        "id": "4f9ZvqJvAIkJ",
        "outputId": "80b43686-6142-48f3-c04e-d63c78aed53b"
      },
      "outputs": [
        {
          "output_type": "stream",
          "name": "stdout",
          "text": [
            "Mounted at /content/gdrive\n"
          ]
        }
      ],
      "source": [
        "#mount my google drive\n",
        "from google.colab import drive\n",
        "drive.mount(\"/content/gdrive\")"
      ]
    },
    {
      "cell_type": "markdown",
      "metadata": {
        "id": "oqOSgIV9kmTu"
      },
      "source": [
        "1) Find the most popular browser (made most requests) from the “web access log” file of lab01."
      ]
    },
    {
      "cell_type": "code",
      "execution_count": null,
      "metadata": {
        "id": "Wspn0tgznCBk",
        "colab": {
          "base_uri": "https://localhost:8080/"
        },
        "outputId": "90cfe63e-0e92-4480-8750-a9b9a49d05b1"
      },
      "outputs": [
        {
          "output_type": "stream",
          "name": "stdout",
          "text": [
            "Overwriting browser_counter.py\n"
          ]
        }
      ],
      "source": [
        "%%file q1.py\n",
        "from mrjob.job import MRJob       #Each line in the log file represents one HTTP request-response cycle, with detailed information about the request, the server's response, and additional metadata like the client's IP address, timestamp, referrer, and user-agent.\n",
        "\n",
        "class BrowserCounter(MRJob):\n",
        "\n",
        "    def mapper(self, key, line):\n",
        "        request = line.split(' ')\n",
        "        if len(request) >= 12:\n",
        "            browser = request[11]\n",
        "            yield browser, 1\n",
        "\n",
        "    def reducer(self, browser, count):\n",
        "        yield browser, sum(count)\n",
        "\n",
        "if __name__ == '__main__':\n",
        "    BrowserCounter.run()\n"
      ]
    },
    {
      "cell_type": "code",
      "execution_count": null,
      "metadata": {
        "colab": {
          "base_uri": "https://localhost:8080/"
        },
        "id": "MOiYfQJppZvl",
        "outputId": "a7f18907-1302-44ff-99fe-35d2ea97c6d3"
      },
      "outputs": [
        {
          "output_type": "stream",
          "name": "stdout",
          "text": [
            "Overwriting browser_counter.py\n"
          ]
        }
      ],
      "source": [
        "%%file browser_counter.py\n",
        "from mrjob.job import MRJob\n",
        "\n",
        "class BrowserCounter(MRJob):\n",
        "\n",
        "    def mapper(self, key, line):\n",
        "        request = line.split(' ')\n",
        "        if len(request) >= 12:\n",
        "            browser = request[11]\n",
        "            yield browser, 1\n",
        "\n",
        "    def reducer_init(self):\n",
        "        self.most_popular_browser = None\n",
        "        self.max_requests = 0\n",
        "\n",
        "    def reducer(self, browser, counts):\n",
        "        total_requests = sum(counts)\n",
        "        if total_requests > self.max_requests:\n",
        "            self.max_requests = total_requests\n",
        "            self.most_popular_browser = browser\n",
        "\n",
        "    def reducer_final(self):\n",
        "        if self.most_popular_browser is not None:\n",
        "            yield self.most_popular_browser, self.max_requests\n",
        "\n",
        "if __name__ == '__main__':\n",
        "    BrowserCounter.run()\n"
      ]
    },
    {
      "cell_type": "code",
      "execution_count": null,
      "metadata": {
        "colab": {
          "base_uri": "https://localhost:8080/"
        },
        "id": "V-L47nu1CBPV",
        "outputId": "89670194-9115-473b-d2b3-d22b4e4d8926"
      },
      "outputs": [
        {
          "output_type": "stream",
          "name": "stdout",
          "text": [
            "No configs found; falling back on auto-configuration\n",
            "No configs specified for inline runner\n",
            "Creating temp directory /tmp/browser_counter.root.20230915.054305.203069\n",
            "Running step 1 of 1...\n",
            "job output is in /tmp/browser_counter.root.20230915.054305.203069/output\n",
            "Streaming final output from /tmp/browser_counter.root.20230915.054305.203069/output...\n",
            "\"\\\"Mozilla/5.0\"\t86479\n",
            "\"\\\"python-requests/1.2.3\"\t1733\n",
            "Removing temp directory /tmp/browser_counter.root.20230915.054305.203069...\n"
          ]
        }
      ],
      "source": [
        "!python browser_counter.py \"/content/gdrive/My Drive/datasets/mr/web_access_log.txt\"\n"
      ]
    },
    {
      "cell_type": "markdown",
      "metadata": {
        "id": "iNv5n1jBpvCl"
      },
      "source": [
        "2) Suppose you are given a set of data vectors in the file iris.csv. Read each row in data\n",
        "file as a data vector. You are also given a file containing class vectors in iris_classes.\n",
        "Read each row in this file as a class vector. Your program should output ID of class vector for each data vector. Let ID of class vector be 1,2,3 in the order of their occurrence in the class file.\n"
      ]
    },
    {
      "cell_type": "code",
      "execution_count": null,
      "metadata": {
        "colab": {
          "base_uri": "https://localhost:8080/"
        },
        "id": "r5gNADgEpuca",
        "outputId": "b28fa43e-448a-461f-8833-09c972ebd85f"
      },
      "outputs": [
        {
          "output_type": "stream",
          "name": "stdout",
          "text": [
            "Overwriting classification.py\n"
          ]
        }
      ],
      "source": [
        "\n",
        "%%file classification.py\n",
        "from mrjob.job import MRJob\n",
        "import math\n",
        "import csv\n",
        "import re\n",
        "\n",
        "def is_float(num):\n",
        "    try:\n",
        "        float(num)\n",
        "        return True\n",
        "    except ValueError:\n",
        "        return False\n",
        "\n",
        "class Classify(MRJob):\n",
        "\n",
        "    def mapper_init(self):\n",
        "        # Initialize a dictionary to store class vectors\n",
        "        self.classes = {}\n",
        "        i = 0\n",
        "        with open('/content/gdrive/My Drive/datasets/iris/iris_classes.csv', mode='r') as file:\n",
        "            for data in csv.reader(file):\n",
        "                if is_float(data[0]):\n",
        "                    i += 1\n",
        "                    data = [float(k) for k in data]\n",
        "                    self.classes[i] = data\n",
        "\n",
        "    def mapper(self, key, line):\n",
        "        # Split the input line into a list of values\n",
        "        record = re.split(',', line)\n",
        "        min_distance = math.inf\n",
        "        cls = 0\n",
        "        if is_float(record[0]):\n",
        "            record = [float(i) for i in record]\n",
        "            for class_no, class_vector in self.classes.items():\n",
        "                d = 0\n",
        "                for i in range(len(class_vector)):\n",
        "                    # Calculate the squared difference for each dimension\n",
        "                    d += (class_vector[i] - record[i]) ** 2\n",
        "                if math.sqrt(d) < min_distance:\n",
        "                    min_distance = math.sqrt(d)\n",
        "                    cls = class_no\n",
        "            # Emit the original data vector and its determined class\n",
        "            yield record, cls\n",
        "\n",
        "if __name__ == '__main__':\n",
        "    Classify.run()\n"
      ]
    },
    {
      "cell_type": "code",
      "execution_count": null,
      "metadata": {
        "colab": {
          "base_uri": "https://localhost:8080/"
        },
        "id": "k7Gwd8Otst4-",
        "outputId": "80038ae8-457a-48a9-ddac-7b89e4d28bf0"
      },
      "outputs": [
        {
          "output_type": "stream",
          "name": "stdout",
          "text": [
            "No configs found; falling back on auto-configuration\n",
            "No configs specified for inline runner\n",
            "Creating temp directory /tmp/classification.root.20230915.055219.289266\n",
            "Running step 1 of 1...\n",
            "job output is in /tmp/classification.root.20230915.055219.289266/output\n",
            "Streaming final output from /tmp/classification.root.20230915.055219.289266/output...\n",
            "[6.8462, 3.0821, 5.7026, 2.0795]\t3\n",
            "[5.8885, 2.7377, 4.3967, 1.418]\t1\n",
            "[5.006, 3.418, 1.464, 0.244]\t2\n",
            "Removing temp directory /tmp/classification.root.20230915.055219.289266...\n"
          ]
        }
      ],
      "source": [
        "!python classification.py \"/content/gdrive/My Drive/datasets/iris/iris_classes.csv\"\n"
      ]
    },
    {
      "cell_type": "markdown",
      "metadata": {
        "id": "5XtB88vru3br"
      },
      "source": [
        "3) Compute top 10 earners from the “employee.csv” of lab01. You can only list employee numbers.\n",
        "For computing top-10, you can maintain “sorted map” with size of 10 at mappers. Can refer to “lecture slides”.\n"
      ]
    },
    {
      "cell_type": "code",
      "execution_count": null,
      "metadata": {
        "colab": {
          "base_uri": "https://localhost:8080/"
        },
        "id": "K33CqKICu-qo",
        "outputId": "ccbc13a1-111e-4ac6-df60-0f9889db730a"
      },
      "outputs": [
        {
          "output_type": "stream",
          "name": "stdout",
          "text": [
            "Overwriting toptenearners.py\n"
          ]
        }
      ],
      "source": [
        "\n",
        "%%file toptenearners.py\n",
        "from heapq import heappush, heappop\n",
        "from mrjob.job import MRJob\n",
        "import re\n",
        "\n",
        "class toptenearners(MRJob):\n",
        "\n",
        "  def mapper_init(self):\n",
        "    self.N = 10\n",
        "    self.min_heap = []      # Initialize a min-heap to store the top earners\n",
        "\n",
        "  def mapper(self, _, line):\n",
        "    record = re.split(',', line)\n",
        "    salary = int(record[3])\n",
        "    emp_no = record[0]\n",
        "\n",
        "    if emp_no.isdigit():      # Checking if the employee number is numeric (handle non-numeric cases)\n",
        "      emp_no = int(emp_no)\n",
        "    else:\n",
        "      emp_no = int(emp_no[-5:])\n",
        "\n",
        "    heappush(self.min_heap, (salary, emp_no))       # Push the salary and employee number into the min-heap\n",
        "\n",
        "    if len(self.min_heap) > self.N:         # If the heap size exceeds N, remove the smallest element\n",
        "      x = heappop(self.min_heap)\n",
        "\n",
        "  def mapper_final(self):\n",
        "    yield None, self.min_heap     # Emit a single key-value pair with None as the key and the min-heap as the value\n",
        "\n",
        "  def reducer_init(self):\n",
        "    self.N = 10\n",
        "    self.min_heap = []\n",
        "\n",
        "  def reducer(self, _, heaps):\n",
        "    for heap in heaps:          # Combine the min-heaps from different mappers into a single min-heap\n",
        "      for value in heap:\n",
        "        heappush(self.min_heap, value)\n",
        "        if len(self.min_heap) > self.N:             # If the heap size exceeds N, remove the smallest element\n",
        "          x = heappop(self.min_heap)\n",
        "\n",
        "  def reducer_final(self):\n",
        "    top_earners = reversed(sorted(self.min_heap))         # Sort the min-heap in descending order to get the top earners\n",
        "    for salary, emp_no in top_earners:\n",
        "      yield emp_no, salary\n",
        "\n",
        "if __name__ == '__main__':\n",
        "  toptenearners.run()\n"
      ]
    },
    {
      "cell_type": "code",
      "execution_count": null,
      "metadata": {
        "colab": {
          "base_uri": "https://localhost:8080/"
        },
        "id": "Hm-3s5Oevj3z",
        "outputId": "7a4ea8f9-7265-483a-e2a7-15e35f6128e3"
      },
      "outputs": [
        {
          "output_type": "stream",
          "name": "stdout",
          "text": [
            "No configs found; falling back on auto-configuration\n",
            "No configs specified for inline runner\n",
            "Creating temp directory /tmp/toptenearners.root.20230915.055717.076672\n",
            "Running step 1 of 1...\n",
            "job output is in /tmp/toptenearners.root.20230915.055717.076672/output\n",
            "Streaming final output from /tmp/toptenearners.root.20230915.055717.076672/output...\n",
            "10089\t250000\n",
            "10010\t220450\n",
            "10272\t180000\n",
            "10015\t178000\n",
            "10019\t170500\n",
            "10288\t157000\n",
            "10086\t150290\n",
            "10222\t148999\n",
            "10198\t140920\n",
            "10028\t138888\n",
            "Removing temp directory /tmp/toptenearners.root.20230915.055717.076672...\n"
          ]
        }
      ],
      "source": [
        "!python toptenearners.py \"/content/gdrive/My Drive/datasets/mr/employee.csv\""
      ]
    },
    {
      "cell_type": "markdown",
      "metadata": {
        "id": "JPqiBZDjiJQL"
      },
      "source": [
        "4) Compute the standard deviation of salary for each department from “employee.csv”"
      ]
    },
    {
      "cell_type": "code",
      "execution_count": null,
      "metadata": {
        "colab": {
          "base_uri": "https://localhost:8080/"
        },
        "id": "IB7gUkIziIoF",
        "outputId": "f042e26b-5c0e-474d-b521-21abe1cb0965"
      },
      "outputs": [
        {
          "output_type": "stream",
          "name": "stdout",
          "text": [
            "Writing sd.py\n"
          ]
        }
      ],
      "source": [
        "%%file sd.py\n",
        "from mrjob.job import MRJob\n",
        "import math\n",
        "import re\n",
        "class EmployeeSd(MRJob):\n",
        "  def mapper(self, _, line):\n",
        "    record = re.split(',', line)\n",
        "    dno = record[2]\n",
        "    salary = int(record[3])\n",
        "    yield dno, salary\n",
        "  def reducer(self, dno, salaries):\n",
        "    sal_list = list(salaries)\n",
        "    n = len(sal_list)\n",
        "    std = 0\n",
        "    mean = sum(sal_list)/n\n",
        "    for salary in sal_list:\n",
        "      std+=(salary - mean)**2\n",
        "    yield dno, math.sqrt(std/n)\n",
        "if __name__ == '__main__':\n",
        "  EmployeeSd.run()"
      ]
    },
    {
      "cell_type": "code",
      "execution_count": null,
      "metadata": {
        "colab": {
          "base_uri": "https://localhost:8080/"
        },
        "id": "Sf_tShZtiT4l",
        "outputId": "800edfb6-e5a2-446f-e06f-ac658d482d5e"
      },
      "outputs": [
        {
          "output_type": "stream",
          "name": "stdout",
          "text": [
            "No configs found; falling back on auto-configuration\n",
            "No configs specified for inline runner\n",
            "Creating temp directory /tmp/sd.root.20230915.055756.186692\n",
            "Running step 1 of 1...\n",
            "job output is in /tmp/sd.root.20230915.055756.186692/output\n",
            "Streaming final output from /tmp/sd.root.20230915.055756.186692/output...\n",
            "\"1\"\t19722.68484258672\n",
            "\"2\"\t0.0\n",
            "\"3\"\t32875.83877242373\n",
            "\"4\"\t8754.93245490792\n",
            "\"5\"\t11420.800779947584\n",
            "\"6\"\t20702.734864531638\n",
            "Removing temp directory /tmp/sd.root.20230915.055756.186692...\n"
          ]
        }
      ],
      "source": [
        "!python sd.py \"/content/gdrive/My Drive/datasets/mr/employee.csv\""
      ]
    }
  ],
  "metadata": {
    "colab": {
      "provenance": []
    },
    "kernelspec": {
      "display_name": "Python 3",
      "name": "python3"
    },
    "language_info": {
      "name": "python"
    }
  },
  "nbformat": 4,
  "nbformat_minor": 0
}